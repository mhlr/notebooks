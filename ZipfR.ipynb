{
 "cells": [
  {
   "cell_type": "code",
   "execution_count": null,
   "metadata": {
    "collapsed": false
   },
   "outputs": [],
   "source": [
    "# gnerate Zipf distributed data as described in\n",
    "#  http://arxiv.org/abs/1407.7135\n",
    "\n",
    "n <- 2**20\n",
    "k <- 20\n",
    "b <- rnorm(k, 1, 0.25)\n",
    "data <- replicate(n, {z <- runif(1)\n",
    "                      p <- (z^b) / (z^b + (1-z)^b)\n",
    "                      sum((runif(k) < p) * (2**(0:(k-1)))\n",
    "                         ) })\n",
    "tbl <- sort(table(data), decreasing=TRUE)\n",
    "plot(log2(1:length(tbl)), log2(tbl))"
   ]
  },
  {
   "cell_type": "code",
   "execution_count": null,
   "metadata": {
    "collapsed": false
   },
   "outputs": [],
   "source": [
    "\n"
   ]
  },
  {
   "cell_type": "code",
   "execution_count": null,
   "metadata": {
    "collapsed": true
   },
   "outputs": [],
   "source": []
  }
 ],
 "metadata": {
  "anaconda-cloud": {},
  "kernelspec": {
   "display_name": "R",
   "language": "R",
   "name": "ir"
  },
  "language_info": {
   "codemirror_mode": "r",
   "file_extension": ".r",
   "mimetype": "text/x-r-source",
   "name": "R",
   "pygments_lexer": "r",
   "version": "3.3.2"
  }
 },
 "nbformat": 4,
 "nbformat_minor": 0
}
