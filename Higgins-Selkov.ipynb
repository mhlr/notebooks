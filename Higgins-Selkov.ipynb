{
 "cells": [
  {
   "cell_type": "markdown",
   "metadata": {},
   "source": [
    "To run this notebook on mybinder.org click this button:\n",
    "[![Binder](http://mybinder.org/badge.svg)](http://mybinder.org/repo/mhlr/notebooks/Higgins-Selkov.ipynb)"
   ]
  },
  {
   "cell_type": "markdown",
   "metadata": {
    "collapsed": false
   },
   "source": [
    "%pylab inline"
   ]
  },
  {
   "cell_type": "code",
   "execution_count": null,
   "metadata": {
    "collapsed": true
   },
   "outputs": [],
   "source": [
    "from ipywidgets import interact, interactive, fixed"
   ]
  },
  {
   "cell_type": "code",
   "execution_count": null,
   "metadata": {
    "collapsed": true
   },
   "outputs": [],
   "source": [
    "from scipy.integrate import odeint\n",
    "\n",
    "def dS(S,P,v0,k1,k2):\n",
    "    return v0-k1*(P**2)*S\n",
    "\n",
    "def dP(S,P,v0,k1,k2):\n",
    "    return k1*(P**2)*S - k2*P\n",
    "\n",
    "def dSP(y,t,*rest):\n",
    "    return array([\n",
    "        dS(y[0],y[1],*rest),\n",
    "        dP(y[0],y[1],*rest)\n",
    "            ])\n",
    "\n",
    "def plotSP(v0,k1,k2,S0,P0,tmax,tdelta):\n",
    "    sol=odeint(dSP, array([S0, P0]), arange(0,tmax,tdelta), (v0,k1,k2))\n",
    "    plot(sol[:,0], sol[:,1])\n",
    "\n",
    "def streamSP(v0,k1,k2,Smin,Smax,Sdelta,Pmin,Pmax,Pdelta):\n",
    "    S, P = np.meshgrid(np.arange(Smin,Smax,Sdelta), np.arange(Pmin,Pmax,Pdelta))\n",
    "    streamplot(S,P,dS(S,P,v0,k1,k2), dP(S,P,v0,k1,k2))\n",
    "\n",
    "def quiverSP(v0,k1,k2,Smin,Smax,Sdelta,Pmin,Pmax,Pdelta):\n",
    "    S, P = np.meshgrid(np.arange(Smin,Smax,Sdelta), np.arange(Pmin,Pmax,Pdelta))\n",
    "    quiver(dS(S,P,v0,k1,k2), dP(S,P,v0,k1,k2))"
   ]
  },
  {
   "cell_type": "code",
   "execution_count": null,
   "metadata": {
    "collapsed": false
   },
   "outputs": [],
   "source": [
    "result = interact(plotSP,v0=1.,k1=1.,k2=1.0001,S0=2.,P0=1.,tmax=20.,tdelta=0.01)"
   ]
  },
  {
   "cell_type": "code",
   "execution_count": null,
   "metadata": {
    "collapsed": false
   },
   "outputs": [],
   "source": [
    "result = interact(streamSP,\n",
    "                  v0=1.,\n",
    "                  k1=1.,\n",
    "                  k2=1.,\n",
    "                  Smin=0.,\n",
    "                  Smax=2.,\n",
    "                  Sdelta=0.1,\n",
    "                  Pmin=0.,\n",
    "                  Pmax=2.,\n",
    "                  Pdelta=0.1)"
   ]
  },
  {
   "cell_type": "code",
   "execution_count": null,
   "metadata": {
    "collapsed": false
   },
   "outputs": [],
   "source": [
    "result = interact(quiverSP,\n",
    "                  v0=1.,\n",
    "                  k1=1.,\n",
    "                  k2=1.,\n",
    "                  Smin=0.,\n",
    "                  Smax=2.,\n",
    "                  Sdelta=0.1,\n",
    "                  Pmin=0.,\n",
    "                  Pmax=2.,\n",
    "                  Pdelta=0.1)"
   ]
  },
  {
   "cell_type": "code",
   "execution_count": null,
   "metadata": {
    "collapsed": false
   },
   "outputs": [],
   "source": [
    "docstr = \"\"\"\n",
    "# could also try a symbolic solution\n",
    "# but that seems to take a forever\n",
    "\n",
    "from sympy import *\n",
    "\n",
    "var('v0 k1 k2 t')\n",
    "S=Function(\"S\")(t)\n",
    "P=Function(\"P\")(t)\n",
    "def dt(fn):\n",
    "    return Derivative(fn,t)\n",
    "\n",
    "eqS=Eq(dt(S), v0-k1*(P**2)*S)\n",
    "eqP=Eq(dt(P), k1*(P**2)*S - k2*P)\n",
    "sol = dsolve((eqS,eqP))\n",
    "\"\"\"\n"
   ]
  }
 ],
 "metadata": {
  "kernelspec": {
   "display_name": "Python 2",
   "language": "python",
   "name": "python2"
  },
  "language_info": {
   "codemirror_mode": {
    "name": "ipython",
    "version": 2
   },
   "file_extension": ".py",
   "mimetype": "text/x-python",
   "name": "python",
   "nbconvert_exporter": "python",
   "pygments_lexer": "ipython2",
   "version": "2.7.11"
  }
 },
 "nbformat": 4,
 "nbformat_minor": 0
}
